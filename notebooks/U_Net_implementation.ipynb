{
  "nbformat": 4,
  "nbformat_minor": 0,
  "metadata": {
    "colab": {
      "provenance": []
    },
    "kernelspec": {
      "name": "python3",
      "display_name": "Python 3"
    },
    "language_info": {
      "name": "python"
    }
  },
  "cells": [
    {
      "cell_type": "code",
      "execution_count": 1,
      "metadata": {
        "id": "lXXqFSYtPLt6"
      },
      "outputs": [],
      "source": [
        "import torch\n",
        "import torch.nn as nn"
      ]
    },
    {
      "cell_type": "code",
      "source": [
        "class U_Net(nn.Module):\n",
        "    def __init__(self):\n",
        "        super(U_Net, self).__init__()\n",
        "\n",
        "        self.encoder = self.encoder_block(in_channels=3, out_channels=64)\n",
        "        self.decoder = self.decoder_block(in_channels=64, out_channels=64)\n",
        "\n",
        "        self.final_conv = nn.Conv2d(64, 1, kernel_size=1)\n",
        "\n",
        "    def encoder_block(self, in_channels, out_channels):\n",
        "        return nn.Sequential(\n",
        "            nn.Conv2d(in_channels, out_channels, kernel_size=3, stride=1, padding='same'),\n",
        "            nn.ReLU(),\n",
        "            nn.Conv2d(out_channels, out_channels, kernel_size=3, stride=1, padding='same'),\n",
        "            nn.ReLU(),\n",
        "            nn.MaxPool2d(kernel_size=2, stride=2)\n",
        "        )\n",
        "\n",
        "    def decoder_block(self, in_channels, out_channels):\n",
        "        return nn.Sequential(\n",
        "            nn.ConvTranspose2d(in_channels, out_channels, kernel_size=2, stride=2),\n",
        "            nn.Conv2d(out_channels, out_channels, kernel_size=3, stride=1, padding='same'),\n",
        "            nn.ReLU(inplace=True),\n",
        "            nn.Conv2d(out_channels, out_channels, kernel_size=3, stride=1, padding='same'),\n",
        "            nn.ReLU(inplace=True)\n",
        "        )\n",
        "\n",
        "    def forward(self, x):\n",
        "        x = self.encoder(x)\n",
        "        x = self.decoder(x)\n",
        "        x = self.final_conv(x)\n",
        "        return x\n"
      ],
      "metadata": {
        "id": "Mnuh-IecPU-4"
      },
      "execution_count": 2,
      "outputs": []
    },
    {
      "cell_type": "code",
      "source": [],
      "metadata": {
        "id": "tZoGN3HkYs6A"
      },
      "execution_count": null,
      "outputs": []
    }
  ]
}